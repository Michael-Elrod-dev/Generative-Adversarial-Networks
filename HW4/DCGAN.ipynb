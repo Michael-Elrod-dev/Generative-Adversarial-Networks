{
 "cells": [
  {
   "cell_type": "code",
   "execution_count": 33,
   "id": "c6b4ffa1",
   "metadata": {
    "execution": {
     "iopub.execute_input": "2023-04-19T18:16:08.924049Z",
     "iopub.status.busy": "2023-04-19T18:16:08.923607Z",
     "iopub.status.idle": "2023-04-19T18:16:11.626826Z",
     "shell.execute_reply": "2023-04-19T18:16:11.625797Z"
    },
    "papermill": {
     "duration": 2.713712,
     "end_time": "2023-04-19T18:16:11.629399",
     "exception": false,
     "start_time": "2023-04-19T18:16:08.915687",
     "status": "completed"
    },
    "tags": []
   },
   "outputs": [],
   "source": [
    "# Standard imports\n",
    "import os\n",
    "import time\n",
    "import numpy as np\n",
    "from scipy import linalg\n",
    "import matplotlib.pyplot as plt\n",
    "\n",
    "# PyTorch imports\n",
    "import torch\n",
    "import torch.nn as nn\n",
    "import torch.optim as optim\n",
    "import torch.nn.functional as F\n",
    "import torchvision.utils as vutils\n",
    "import torchvision.datasets as datasets\n",
    "import torchvision.transforms as transforms\n",
    "import torchvision.models as models\n",
    "from torch.utils.data import DataLoader"
   ]
  },
  {
   "cell_type": "code",
   "execution_count": 34,
   "id": "6662842c",
   "metadata": {
    "execution": {
     "iopub.execute_input": "2023-04-19T18:16:11.641357Z",
     "iopub.status.busy": "2023-04-19T18:16:11.640916Z",
     "iopub.status.idle": "2023-04-19T18:16:11.708554Z",
     "shell.execute_reply": "2023-04-19T18:16:11.707452Z"
    },
    "papermill": {
     "duration": 0.076243,
     "end_time": "2023-04-19T18:16:11.711122",
     "exception": false,
     "start_time": "2023-04-19T18:16:11.634879",
     "status": "completed"
    },
    "tags": []
   },
   "outputs": [
    {
     "name": "stdout",
     "output_type": "stream",
     "text": [
      "Device: cuda\n"
     ]
    }
   ],
   "source": [
    "# Set random seed and device\n",
    "torch.manual_seed(1)\n",
    "device = torch.device(\"cuda\")\n",
    "print('Device:', device)"
   ]
  },
  {
   "cell_type": "code",
   "execution_count": 35,
   "id": "51d1bb1e",
   "metadata": {
    "execution": {
     "iopub.execute_input": "2023-04-19T18:16:11.722849Z",
     "iopub.status.busy": "2023-04-19T18:16:11.722237Z",
     "iopub.status.idle": "2023-04-19T18:16:11.727934Z",
     "shell.execute_reply": "2023-04-19T18:16:11.727012Z"
    },
    "papermill": {
     "duration": 0.013787,
     "end_time": "2023-04-19T18:16:11.730072",
     "exception": false,
     "start_time": "2023-04-19T18:16:11.716285",
     "status": "completed"
    },
    "tags": []
   },
   "outputs": [],
   "source": [
    "# Hyperparameters\n",
    "LEARNING_RATE = 5e-5\n",
    "BATCH_SIZE = 128\n",
    "IMAGE_SIZE = 64\n",
    "CHANNELS_IMG = 3\n",
    "NOISE_DIM = 100\n",
    "NUM_EPOCHS = 40\n",
    "FEATURES_DISC = 64\n",
    "FEATURES_GEN = 64\n",
    "BETA1 = 0.5"
   ]
  },
  {
   "cell_type": "code",
   "execution_count": 36,
   "id": "a1d4e8b4",
   "metadata": {
    "execution": {
     "iopub.execute_input": "2023-04-19T18:16:11.741323Z",
     "iopub.status.busy": "2023-04-19T18:16:11.741052Z",
     "iopub.status.idle": "2023-04-19T18:16:18.553011Z",
     "shell.execute_reply": "2023-04-19T18:16:18.551985Z"
    },
    "papermill": {
     "duration": 6.820383,
     "end_time": "2023-04-19T18:16:18.555460",
     "exception": false,
     "start_time": "2023-04-19T18:16:11.735077",
     "status": "completed"
    },
    "tags": []
   },
   "outputs": [],
   "source": [
    "# Create directories\n",
    "os.makedirs('Results', exist_ok=True)\n",
    "os.makedirs('Models', exist_ok=True)"
   ]
  },
  {
   "cell_type": "code",
   "execution_count": 37,
   "id": "11f73bcd",
   "metadata": {
    "execution": {
     "iopub.execute_input": "2023-04-19T18:16:18.567659Z",
     "iopub.status.busy": "2023-04-19T18:16:18.567344Z",
     "iopub.status.idle": "2023-04-19T18:16:22.102097Z",
     "shell.execute_reply": "2023-04-19T18:16:22.099237Z"
    },
    "papermill": {
     "duration": 3.546956,
     "end_time": "2023-04-19T18:16:22.107971",
     "exception": false,
     "start_time": "2023-04-19T18:16:18.561015",
     "status": "completed"
    },
    "tags": []
   },
   "outputs": [
    {
     "name": "stdout",
     "output_type": "stream",
     "text": [
      "Files already downloaded and verified\n"
     ]
    }
   ],
   "source": [
    "# Dataset setup\n",
    "transform = transforms.Compose([\n",
    "    transforms.Resize(IMAGE_SIZE),\n",
    "    transforms.ToTensor(),\n",
    "    transforms.Normalize((0.5, 0.5, 0.5), (0.5, 0.5, 0.5)),\n",
    "])\n",
    "\n",
    "dataset = datasets.CIFAR10(\n",
    "    root=\"./dataset/CIFAR10data\",\n",
    "    download=True,\n",
    "    transform=transform\n",
    ")\n",
    "\n",
    "dataloader = DataLoader(\n",
    "    dataset,\n",
    "    batch_size=BATCH_SIZE,\n",
    "    shuffle=True,\n",
    "    num_workers=2\n",
    ")\n"
   ]
  },
  {
   "cell_type": "code",
   "execution_count": 38,
   "id": "a066f6af",
   "metadata": {
    "execution": {
     "iopub.execute_input": "2023-04-19T18:16:22.133433Z",
     "iopub.status.busy": "2023-04-19T18:16:22.133078Z",
     "iopub.status.idle": "2023-04-19T18:16:22.143013Z",
     "shell.execute_reply": "2023-04-19T18:16:22.142126Z"
    },
    "papermill": {
     "duration": 0.025231,
     "end_time": "2023-04-19T18:16:22.145201",
     "exception": false,
     "start_time": "2023-04-19T18:16:22.119970",
     "status": "completed"
    },
    "tags": []
   },
   "outputs": [],
   "source": [
    "# Display training images\n",
    "def display_training_images(dataloader, device):\n",
    "    real_batch = next(iter(dataloader))\n",
    "    plt.figure(figsize=(10,10))\n",
    "    plt.axis(\"off\")\n",
    "    plt.title(\"Training Images\")\n",
    "    plt.imshow(np.transpose(\n",
    "        vutils.make_grid(real_batch[0].to(device)[:32], padding=2, normalize=True).cpu(),\n",
    "        (1,2,0)\n",
    "    ))"
   ]
  },
  {
   "cell_type": "code",
   "execution_count": 39,
   "id": "8ab890c5",
   "metadata": {
    "execution": {
     "iopub.execute_input": "2023-04-19T18:16:22.169371Z",
     "iopub.status.busy": "2023-04-19T18:16:22.169095Z",
     "iopub.status.idle": "2023-04-19T18:16:22.177480Z",
     "shell.execute_reply": "2023-04-19T18:16:22.176492Z"
    },
    "papermill": {
     "duration": 0.022811,
     "end_time": "2023-04-19T18:16:22.179619",
     "exception": false,
     "start_time": "2023-04-19T18:16:22.156808",
     "status": "completed"
    },
    "tags": []
   },
   "outputs": [],
   "source": [
    "# Display training images\n",
    "def display_training_images(dataloader, device):\n",
    "    real_batch = next(iter(dataloader))\n",
    "    plt.figure(figsize=(10,10))\n",
    "    plt.axis(\"off\")\n",
    "    plt.title(\"Training Images\")\n",
    "    plt.imshow(np.transpose(\n",
    "        vutils.make_grid(real_batch[0].to(device)[:32], padding=2, normalize=True).cpu(),\n",
    "        (1,2,0)\n",
    "    ))\n",
    "\n",
    "class Discriminator(nn.Module):\n",
    "    def __init__(self, channels_img, features_d):\n",
    "        super(Discriminator, self).__init__()\n",
    "        self.disc = nn.Sequential(\n",
    "            nn.Conv2d(channels_img, features_d, kernel_size=4, stride=2, padding=1),\n",
    "            nn.LeakyReLU(0.2),\n",
    "            self._block(features_d, features_d * 2, 4, 2, 1),\n",
    "            self._block(features_d * 2, features_d * 4, 4, 2, 1),\n",
    "            self._block(features_d * 4, features_d * 8, 4, 2, 1),\n",
    "            nn.Conv2d(features_d * 8, 1, kernel_size=4, stride=2, padding=0),\n",
    "            nn.Sigmoid(),\n",
    "        )\n",
    "\n",
    "    def _block(self, in_channels, out_channels, kernel_size, stride, padding):\n",
    "        return nn.Sequential(\n",
    "            nn.Conv2d(in_channels, out_channels, kernel_size, stride, padding, bias=False),\n",
    "            nn.LeakyReLU(0.2),\n",
    "        )\n",
    "\n",
    "    def forward(self, x):\n",
    "        return self.disc(x)\n",
    "\n",
    "class Generator(nn.Module):\n",
    "    def __init__(self, channels_noise, channels_img, features_g):\n",
    "        super(Generator, self).__init__()\n",
    "        self.net = nn.Sequential(\n",
    "            self._block(channels_noise, features_g * 16, 4, 1, 0),\n",
    "            self._block(features_g * 16, features_g * 8, 4, 2, 1),\n",
    "            self._block(features_g * 8, features_g * 4, 4, 2, 1),\n",
    "            self._block(features_g * 4, features_g * 2, 4, 2, 1),\n",
    "            nn.ConvTranspose2d(features_g * 2, channels_img, kernel_size=4, stride=2, padding=1),\n",
    "            nn.Tanh(),\n",
    "        )\n",
    "\n",
    "    def _block(self, in_channels, out_channels, kernel_size, stride, padding):\n",
    "        return nn.Sequential(\n",
    "            nn.ConvTranspose2d(in_channels, out_channels, kernel_size, stride, padding, bias=False),\n",
    "            nn.BatchNorm2d(out_channels, momentum=0.9),\n",
    "            nn.ReLU(),\n",
    "        )\n",
    "\n",
    "    def forward(self, x):\n",
    "        return self.net(x)\n",
    "\n",
    "def initialize_weights(model):\n",
    "    \"\"\"Initialize model weights to normal distribution with mean=0, std=0.02\"\"\"\n",
    "    for m in model.modules():\n",
    "        if isinstance(m, (nn.Conv2d, nn.ConvTranspose2d, nn.BatchNorm2d)):\n",
    "            nn.init.normal_(m.weight.data, 0.0, 0.02)"
   ]
  },
  {
   "cell_type": "code",
   "execution_count": 40,
   "id": "080d85d4",
   "metadata": {
    "execution": {
     "iopub.execute_input": "2023-04-19T18:16:22.203465Z",
     "iopub.status.busy": "2023-04-19T18:16:22.203185Z",
     "iopub.status.idle": "2023-04-19T18:16:22.209083Z",
     "shell.execute_reply": "2023-04-19T18:16:22.208186Z"
    },
    "papermill": {
     "duration": 0.020573,
     "end_time": "2023-04-19T18:16:22.211388",
     "exception": false,
     "start_time": "2023-04-19T18:16:22.190815",
     "status": "completed"
    },
    "tags": []
   },
   "outputs": [],
   "source": [
    "# Model initialization\n",
    "generator = Generator(NOISE_DIM, CHANNELS_IMG, FEATURES_GEN).to(device)\n",
    "discriminator = Discriminator(CHANNELS_IMG, FEATURES_DISC).to(device)\n",
    "initialize_weights(generator)\n",
    "initialize_weights(discriminator)"
   ]
  },
  {
   "cell_type": "code",
   "execution_count": 41,
   "id": "710bd591",
   "metadata": {
    "execution": {
     "iopub.execute_input": "2023-04-19T18:16:22.235217Z",
     "iopub.status.busy": "2023-04-19T18:16:22.234934Z",
     "iopub.status.idle": "2023-04-19T18:16:22.397836Z",
     "shell.execute_reply": "2023-04-19T18:16:22.396828Z"
    },
    "papermill": {
     "duration": 0.177839,
     "end_time": "2023-04-19T18:16:22.400320",
     "exception": false,
     "start_time": "2023-04-19T18:16:22.222481",
     "status": "completed"
    },
    "tags": []
   },
   "outputs": [],
   "source": [
    "# Optimizers\n",
    "gen_optimizer = optim.Adam(generator.parameters(), lr=LEARNING_RATE, betas=(BETA1, 0.999))\n",
    "disc_optimizer = optim.Adam(discriminator.parameters(), lr=LEARNING_RATE, betas=(BETA1, 0.999))"
   ]
  },
  {
   "cell_type": "code",
   "execution_count": 42,
   "id": "34b6c70c",
   "metadata": {
    "execution": {
     "iopub.execute_input": "2023-04-19T18:16:22.425257Z",
     "iopub.status.busy": "2023-04-19T18:16:22.424934Z",
     "iopub.status.idle": "2023-04-19T18:16:22.432698Z",
     "shell.execute_reply": "2023-04-19T18:16:22.431776Z"
    },
    "papermill": {
     "duration": 0.022595,
     "end_time": "2023-04-19T18:16:22.434833",
     "exception": false,
     "start_time": "2023-04-19T18:16:22.412238",
     "status": "completed"
    },
    "tags": []
   },
   "outputs": [],
   "source": [
    "# Loss function\n",
    "criterion = nn.BCELoss()\n",
    "\n",
    "# Fixed noise for visualization\n",
    "fixed_noise = torch.randn(32, NOISE_DIM, 1, 1).to(device)"
   ]
  },
  {
   "cell_type": "code",
   "execution_count": 43,
   "id": "84521e22",
   "metadata": {
    "execution": {
     "iopub.execute_input": "2023-04-19T18:16:22.459329Z",
     "iopub.status.busy": "2023-04-19T18:16:22.458474Z",
     "iopub.status.idle": "2023-04-19T18:16:22.467611Z",
     "shell.execute_reply": "2023-04-19T18:16:22.466714Z"
    },
    "papermill": {
     "duration": 0.023886,
     "end_time": "2023-04-19T18:16:22.469874",
     "exception": false,
     "start_time": "2023-04-19T18:16:22.445988",
     "status": "completed"
    },
    "tags": []
   },
   "outputs": [
    {
     "data": {
      "text/plain": [
       "Discriminator(\n",
       "  (disc): Sequential(\n",
       "    (0): Conv2d(3, 64, kernel_size=(4, 4), stride=(2, 2), padding=(1, 1))\n",
       "    (1): LeakyReLU(negative_slope=0.2)\n",
       "    (2): Sequential(\n",
       "      (0): Conv2d(64, 128, kernel_size=(4, 4), stride=(2, 2), padding=(1, 1), bias=False)\n",
       "      (1): LeakyReLU(negative_slope=0.2)\n",
       "    )\n",
       "    (3): Sequential(\n",
       "      (0): Conv2d(128, 256, kernel_size=(4, 4), stride=(2, 2), padding=(1, 1), bias=False)\n",
       "      (1): LeakyReLU(negative_slope=0.2)\n",
       "    )\n",
       "    (4): Sequential(\n",
       "      (0): Conv2d(256, 512, kernel_size=(4, 4), stride=(2, 2), padding=(1, 1), bias=False)\n",
       "      (1): LeakyReLU(negative_slope=0.2)\n",
       "    )\n",
       "    (5): Conv2d(512, 1, kernel_size=(4, 4), stride=(2, 2))\n",
       "    (6): Sigmoid()\n",
       "  )\n",
       ")"
      ]
     },
     "execution_count": 43,
     "metadata": {},
     "output_type": "execute_result"
    }
   ],
   "source": [
    "# Set models to training mode\n",
    "generator.train()\n",
    "discriminator.train()"
   ]
  },
  {
   "cell_type": "code",
   "execution_count": null,
   "id": "1f364fb7",
   "metadata": {
    "execution": {
     "iopub.execute_input": "2023-04-19T18:16:22.495662Z",
     "iopub.status.busy": "2023-04-19T18:16:22.495360Z",
     "iopub.status.idle": "2023-04-19T18:16:23.806541Z",
     "shell.execute_reply": "2023-04-19T18:16:23.805562Z"
    },
    "papermill": {
     "duration": 1.32667,
     "end_time": "2023-04-19T18:16:23.809006",
     "exception": false,
     "start_time": "2023-04-19T18:16:22.482336",
     "status": "completed"
    },
    "tags": []
   },
   "outputs": [],
   "source": [
    "class InceptionV3(nn.Module):\n",
    "   \"\"\"Pretrained InceptionV3 network for FID calculation\"\"\"\n",
    "   DEFAULT_BLOCK_INDEX = 3\n",
    "   BLOCK_INDEX_BY_DIM = {64: 0, 192: 1, 768: 2, 2048: 3}\n",
    "\n",
    "   def __init__(self, output_blocks=[DEFAULT_BLOCK_INDEX], resize_input=True, \n",
    "                normalize_input=True, requires_grad=False):\n",
    "       super(InceptionV3, self).__init__()\n",
    "       self.resize_input = resize_input\n",
    "       self.normalize_input = normalize_input\n",
    "       self.output_blocks = sorted(output_blocks)\n",
    "       self.last_needed_block = max(output_blocks)\n",
    "\n",
    "       assert self.last_needed_block <= 3, 'Last possible output block index is 3'\n",
    "\n",
    "       self.blocks = nn.ModuleList()\n",
    "       inception = models.inception_v3(pretrained=True)\n",
    "\n",
    "       # Input to maxpool1\n",
    "       block0 = [\n",
    "           inception.Conv2d_1a_3x3,\n",
    "           inception.Conv2d_2a_3x3,\n",
    "           inception.Conv2d_2b_3x3,\n",
    "           nn.MaxPool2d(kernel_size=3, stride=2)\n",
    "       ]\n",
    "       self.blocks.append(nn.Sequential(*block0))\n",
    "\n",
    "       # Maxpool1 to maxpool2\n",
    "       if self.last_needed_block >= 1:\n",
    "           block1 = [\n",
    "               inception.Conv2d_3b_1x1,\n",
    "               inception.Conv2d_4a_3x3,\n",
    "               nn.MaxPool2d(kernel_size=3, stride=2)\n",
    "           ]\n",
    "           self.blocks.append(nn.Sequential(*block1))\n",
    "\n",
    "       # Maxpool2 to aux classifier\n",
    "       if self.last_needed_block >= 2:\n",
    "           block2 = [\n",
    "               inception.Mixed_5b,\n",
    "               inception.Mixed_5c,\n",
    "               inception.Mixed_5d,\n",
    "               inception.Mixed_6a,\n",
    "               inception.Mixed_6b,\n",
    "               inception.Mixed_6c,\n",
    "               inception.Mixed_6d,\n",
    "               inception.Mixed_6e,\n",
    "           ]\n",
    "           self.blocks.append(nn.Sequential(*block2))\n",
    "\n",
    "       # Aux classifier to final avgpool\n",
    "       if self.last_needed_block >= 3:\n",
    "           block3 = [\n",
    "               inception.Mixed_7a,\n",
    "               inception.Mixed_7b,\n",
    "               inception.Mixed_7c,\n",
    "               nn.AdaptiveAvgPool2d(output_size=(1, 1))\n",
    "           ]\n",
    "           self.blocks.append(nn.Sequential(*block3))\n",
    "\n",
    "       for param in self.parameters():\n",
    "           param.requires_grad = requires_grad\n",
    "\n",
    "   def forward(self, inp):\n",
    "       outp = []\n",
    "       x = inp\n",
    "\n",
    "       if self.resize_input:\n",
    "           x = F.interpolate(x, size=(299, 299), mode='bilinear', align_corners=False)\n",
    "\n",
    "       if self.normalize_input:\n",
    "           x = 2 * x - 1  # Scale from range (0, 1) to range (-1, 1)\n",
    "\n",
    "       for idx, block in enumerate(self.blocks):\n",
    "           x = block(x)\n",
    "           if idx in self.output_blocks:\n",
    "               outp.append(x)\n",
    "           if idx == self.last_needed_block:\n",
    "               break\n",
    "\n",
    "       return outp"
   ]
  },
  {
   "cell_type": "code",
   "execution_count": 45,
   "id": "a39b3423",
   "metadata": {
    "execution": {
     "iopub.execute_input": "2023-04-19T18:16:23.835403Z",
     "iopub.status.busy": "2023-04-19T18:16:23.835050Z",
     "iopub.status.idle": "2023-04-19T18:16:23.842166Z",
     "shell.execute_reply": "2023-04-19T18:16:23.841099Z"
    },
    "papermill": {
     "duration": 0.022864,
     "end_time": "2023-04-19T18:16:23.844258",
     "exception": false,
     "start_time": "2023-04-19T18:16:23.821394",
     "status": "completed"
    },
    "tags": []
   },
   "outputs": [],
   "source": [
    "def calculate_activation_statistics(images, model, batch_size=128, dims=2048, cuda=True):\n",
    "   \"\"\"Calculate activation statistics for FID score\"\"\"\n",
    "   model.eval()\n",
    "   activations = np.empty((len(images), dims))\n",
    "   \n",
    "   batch = images.cuda() if cuda else images\n",
    "   predictions = model(batch)[0]\n",
    "   if predictions.size(2) != 1 or predictions.size(3) != 1:\n",
    "       predictions = adaptive_avg_pool2d(predictions, output_size=(1, 1))\n",
    "\n",
    "   activations = predictions.cpu().data.numpy().reshape(predictions.size(0), -1)\n",
    "   \n",
    "   mu = np.mean(activations, axis=0)\n",
    "   sigma = np.cov(activations, rowvar=False)\n",
    "   return mu, sigma\n",
    "\n",
    "def calculate_frechet_distance(mu1, sigma1, mu2, sigma2, eps=1e-6):\n",
    "   \"\"\"Calculate Frechet distance between two distributions\"\"\"\n",
    "   mu1 = np.atleast_1d(mu1)\n",
    "   mu2 = np.atleast_1d(mu2)\n",
    "   sigma1 = np.atleast_2d(sigma1)\n",
    "   sigma2 = np.atleast_2d(sigma2)\n",
    "\n",
    "   assert mu1.shape == mu2.shape, 'Training and test mean vectors have different lengths'\n",
    "   assert sigma1.shape == sigma2.shape, 'Training and test covariances have different dimensions'\n",
    "\n",
    "   diff = mu1 - mu2\n",
    "   covmean, _ = linalg.sqrtm(sigma1.dot(sigma2), disp=False)\n",
    "   \n",
    "   if not np.isfinite(covmean).all():\n",
    "       msg = f'fid calculation produces singular product; adding {eps} to diagonal of cov estimates'\n",
    "       print(msg)\n",
    "       offset = np.eye(sigma1.shape[0]) * eps\n",
    "       covmean = linalg.sqrtm((sigma1 + offset).dot(sigma2 + offset))\n",
    "\n",
    "   if np.iscomplexobj(covmean):\n",
    "       if not np.allclose(np.diagonal(covmean).imag, 0, atol=1e-3):\n",
    "           m = np.max(np.abs(covmean.imag))\n",
    "           raise ValueError(f'Imaginary component {m}')\n",
    "       covmean = covmean.real\n",
    "\n",
    "   tr_covmean = np.trace(covmean)\n",
    "   return diff.dot(diff) + np.trace(sigma1) + np.trace(sigma2) - 2 * tr_covmean\n",
    "\n",
    "def calculate_fid(real_images, fake_images, model):\n",
    "   \"\"\"Calculate FID score between real and fake images\"\"\"\n",
    "   mu_real, std_real = calculate_activation_statistics(real_images, model, cuda=True)\n",
    "   mu_fake, std_fake = calculate_activation_statistics(fake_images, model, cuda=True)\n",
    "   fid_value = calculate_frechet_distance(mu_real, std_real, mu_fake, std_fake)\n",
    "   return fid_value"
   ]
  },
  {
   "cell_type": "code",
   "execution_count": 46,
   "id": "b44c2c02",
   "metadata": {
    "execution": {
     "iopub.execute_input": "2023-04-19T18:16:23.869594Z",
     "iopub.status.busy": "2023-04-19T18:16:23.869257Z",
     "iopub.status.idle": "2023-04-19T18:16:23.878834Z",
     "shell.execute_reply": "2023-04-19T18:16:23.877853Z"
    },
    "papermill": {
     "duration": 0.024494,
     "end_time": "2023-04-19T18:16:23.880895",
     "exception": false,
     "start_time": "2023-04-19T18:16:23.856401",
     "status": "completed"
    },
    "tags": []
   },
   "outputs": [],
   "source": [
    "def save_training_results(gen_losses, disc_losses, fid_scores, img_list):\n",
    "   \"\"\"Save and plot training results\"\"\"\n",
    "   # Create directories if they don't exist\n",
    "   os.makedirs('Results/Loss_Data', exist_ok=True)\n",
    "   os.makedirs('Results/FID_score', exist_ok=True)\n",
    "   \n",
    "   # Save losses and FID scores\n",
    "   np.save('Results/Loss_Data/DCGAN_GLoss', gen_losses)\n",
    "   np.save('Results/Loss_Data/DCGAN_DLoss', disc_losses)\n",
    "   np.save('Results/FID_score/DC_FID', fid_scores)\n",
    "   \n",
    "   # Plot and save loss curves\n",
    "   plt.figure(figsize=(10,5))\n",
    "   plt.title(\"Generator and Discriminator Loss During Training\")\n",
    "   plt.plot(gen_losses, label=\"Generator\")\n",
    "   plt.plot(disc_losses, label=\"Discriminator\")\n",
    "   plt.xlabel(\"Iterations\")\n",
    "   plt.ylabel(\"Loss\")\n",
    "   plt.legend()\n",
    "   plt.savefig('Results/loss.png', format='png', bbox_inches='tight')\n",
    "   plt.close()\n",
    "   \n",
    "   # Plot and save FID scores\n",
    "   plt.figure(figsize=(10,5))\n",
    "   plt.title(\"FID Scores for DCGAN\")\n",
    "   plt.plot(fid_scores, label=\"DCGAN\")\n",
    "   plt.xlabel(\"Epochs\")\n",
    "   plt.ylabel(\"FID\")\n",
    "   plt.legend()\n",
    "   plt.savefig('Results/FID.png', format='png', bbox_inches='tight')\n",
    "   plt.close()\n",
    "   \n",
    "   # Plot real vs fake images\n",
    "   plot_real_vs_fake_images(dataloader, img_list[-1], device)\n",
    "\n",
    "def plot_real_vs_fake_images(dataloader, final_fake_images, device):\n",
    "   \"\"\"Plot and save real vs generated images\"\"\"\n",
    "   real_batch = next(iter(dataloader))\n",
    "   plt.figure(figsize=(15,15))\n",
    "   \n",
    "   plt.subplot(1,2,1)\n",
    "   plt.axis(\"off\")\n",
    "   plt.title(\"Real Images\")\n",
    "   plt.imshow(np.transpose(vutils.make_grid(\n",
    "       real_batch[0].to(device)[:32], padding=5, normalize=True).cpu(),(1,2,0)))\n",
    "   \n",
    "   plt.subplot(1,2,2)\n",
    "   plt.axis(\"off\")\n",
    "   plt.title(\"Fake Images\")\n",
    "   plt.imshow(np.transpose(final_fake_images,(1,2,0)))\n",
    "   \n",
    "   plt.savefig('Results/DCGAN30_BEST_FAKE_32.png', format='png', bbox_inches='tight')\n",
    "   plt.close()"
   ]
  },
  {
   "cell_type": "code",
   "execution_count": 47,
   "id": "36014524",
   "metadata": {
    "execution": {
     "iopub.execute_input": "2023-04-19T18:16:23.906118Z",
     "iopub.status.busy": "2023-04-19T18:16:23.905309Z",
     "iopub.status.idle": "2023-04-19T18:16:23.910972Z",
     "shell.execute_reply": "2023-04-19T18:16:23.909918Z"
    },
    "papermill": {
     "duration": 0.020405,
     "end_time": "2023-04-19T18:16:23.913113",
     "exception": false,
     "start_time": "2023-04-19T18:16:23.892708",
     "status": "completed"
    },
    "tags": []
   },
   "outputs": [
    {
     "name": "stderr",
     "output_type": "stream",
     "text": [
      "c:\\Users\\elrod\\anaconda3\\envs\\DeepLearning\\Lib\\site-packages\\torchvision\\models\\_utils.py:208: UserWarning: The parameter 'pretrained' is deprecated since 0.13 and may be removed in the future, please use 'weights' instead.\n",
      "  warnings.warn(\n",
      "c:\\Users\\elrod\\anaconda3\\envs\\DeepLearning\\Lib\\site-packages\\torchvision\\models\\_utils.py:223: UserWarning: Arguments other than a weight enum or `None` for 'weights' are deprecated since 0.13 and may be removed in the future. The current behavior is equivalent to passing `weights=Inception_V3_Weights.IMAGENET1K_V1`. You can also use `weights=Inception_V3_Weights.DEFAULT` to get the most up-to-date weights.\n",
      "  warnings.warn(msg)\n"
     ]
    }
   ],
   "source": [
    "# Initialize FID model\n",
    "block_idx = InceptionV3.BLOCK_INDEX_BY_DIM[2048]\n",
    "inception_model = InceptionV3([block_idx]).to(device)\n",
    "\n",
    "# Training initialization\n",
    "generator_losses = []\n",
    "discriminator_losses = []\n",
    "generated_images = []\n",
    "fid_scores = []\n",
    "iterations = 0"
   ]
  },
  {
   "cell_type": "code",
   "execution_count": 48,
   "id": "00068ca6",
   "metadata": {
    "execution": {
     "iopub.execute_input": "2023-04-19T18:16:23.938225Z",
     "iopub.status.busy": "2023-04-19T18:16:23.937658Z",
     "iopub.status.idle": "2023-04-19T19:09:57.009182Z",
     "shell.execute_reply": "2023-04-19T19:09:57.007710Z"
    },
    "papermill": {
     "duration": 3213.087278,
     "end_time": "2023-04-19T19:09:57.011712",
     "exception": false,
     "start_time": "2023-04-19T18:16:23.924434",
     "status": "completed"
    },
    "tags": []
   },
   "outputs": [
    {
     "name": "stdout",
     "output_type": "stream",
     "text": [
      "Starting Training...\n",
      "Epoch [1/40] Batch 390/391 Loss D: 0.075, Loss G: 3.793 FID: 411.815\n",
      "Epoch [6/40] Batch 390/391 Loss D: 0.668, Loss G: 0.892 FID: 363.824\n",
      "Epoch [11/40] Batch 390/391 Loss D: 0.680, Loss G: 0.763 FID: 298.977\n",
      "Epoch [16/40] Batch 390/391 Loss D: 0.525, Loss G: 1.180 FID: 268.048\n",
      "Epoch [21/40] Batch 390/391 Loss D: 0.650, Loss G: 0.931 FID: 249.349\n",
      "Epoch [26/40] Batch 390/391 Loss D: 0.721, Loss G: 0.844 FID: 230.679\n",
      "Epoch [31/40] Batch 390/391 Loss D: 0.659, Loss G: 1.112 FID: 225.739\n",
      "Epoch [36/40] Batch 390/391 Loss D: 0.674, Loss G: 0.728 FID: 220.857\n",
      "\n",
      "Training completed in 1685.27 seconds\n"
     ]
    }
   ],
   "source": [
    "print(\"Starting Training...\")\n",
    "training_start_time = time.time()\n",
    "\n",
    "for epoch in range(NUM_EPOCHS):\n",
    "   for batch_idx, (real_images, _) in enumerate(dataloader):\n",
    "       real_images = real_images.to(device)\n",
    "       current_batch_size = real_images.size(0)\n",
    "       \n",
    "       # Train Discriminator\n",
    "       noise = torch.randn(current_batch_size, NOISE_DIM, 1, 1).to(device)\n",
    "       fake_images = generator(noise)\n",
    "       \n",
    "       disc_real = discriminator(real_images).reshape(-1)\n",
    "       disc_real_loss = criterion(disc_real, torch.ones_like(disc_real))\n",
    "       disc_fake = discriminator(fake_images.detach()).reshape(-1)\n",
    "       disc_fake_loss = criterion(disc_fake, torch.zeros_like(disc_fake))\n",
    "       disc_loss = (disc_real_loss + disc_fake_loss) / 2\n",
    "       \n",
    "       disc_optimizer.zero_grad()\n",
    "       disc_loss.backward()\n",
    "       disc_optimizer.step()\n",
    "\n",
    "       # Train Generator\n",
    "       gen_output = discriminator(fake_images).reshape(-1)\n",
    "       gen_loss = criterion(gen_output, torch.ones_like(gen_output))\n",
    "       \n",
    "       gen_optimizer.zero_grad()\n",
    "       gen_loss.backward()\n",
    "       gen_optimizer.step()\n",
    "\n",
    "       # Record losses\n",
    "       generator_losses.append(gen_loss.detach().cpu())\n",
    "       discriminator_losses.append(disc_loss.detach().cpu())\n",
    "\n",
    "       # Save generated images periodically\n",
    "       if (iterations % 500 == 0) or ((epoch == NUM_EPOCHS-1) and (batch_idx == len(dataloader)-1)):\n",
    "           with torch.no_grad():\n",
    "               test_images = generator(fixed_noise).detach().cpu()\n",
    "           generated_images.append(vutils.make_grid(test_images, padding=2, normalize=True))\n",
    "       \n",
    "       iterations += 1\n",
    "   \n",
    "   # Calculate FID score for epoch\n",
    "   fid_score = calculate_fid(real_images, fake_images, inception_model)\n",
    "   fid_scores.append(fid_score)\n",
    "   \n",
    "   # Progress reporting\n",
    "   if epoch % 5 == 0:\n",
    "       print(f'Epoch [{epoch+1}/{NUM_EPOCHS}] Batch {batch_idx}/{len(dataloader)} '\n",
    "             f'Loss D: {disc_loss:.3f}, Loss G: {gen_loss:.3f} FID: {fid_score:.3f}')\n",
    "   \n",
    "   # Save generated and real images\n",
    "   os.makedirs('Results/DCGAN_FAKE', exist_ok=True)\n",
    "   os.makedirs('Results/DCGAN_REAL', exist_ok=True)\n",
    "   \n",
    "   with torch.no_grad():\n",
    "       fake_samples = generator(fixed_noise)\n",
    "       vutils.save_image(fake_samples.detach(),\n",
    "                        f'Results/DCGAN_FAKE/DCGAN50_epoch_{epoch:03d}.png',\n",
    "                        normalize=True)\n",
    "       vutils.save_image(real_images.detach(),\n",
    "                        f'Results/DCGAN_REAL/DCGAN50_epoch_{epoch:03d}.png',\n",
    "                        normalize=True)\n",
    "\n",
    "training_time = time.time() - training_start_time\n",
    "print(f'\\nTraining completed in {training_time:.2f} seconds')"
   ]
  },
  {
   "cell_type": "code",
   "execution_count": 49,
   "id": "5cf38d1b",
   "metadata": {
    "execution": {
     "iopub.execute_input": "2023-04-19T19:09:57.038402Z",
     "iopub.status.busy": "2023-04-19T19:09:57.038071Z",
     "iopub.status.idle": "2023-04-19T19:09:58.289494Z",
     "shell.execute_reply": "2023-04-19T19:09:58.288429Z"
    },
    "papermill": {
     "duration": 1.267875,
     "end_time": "2023-04-19T19:09:58.291886",
     "exception": false,
     "start_time": "2023-04-19T19:09:57.024011",
     "status": "completed"
    },
    "tags": []
   },
   "outputs": [],
   "source": [
    "# Save and plot final results\n",
    "save_training_results(generator_losses, discriminator_losses, fid_scores, generated_images)"
   ]
  },
  {
   "cell_type": "code",
   "execution_count": 51,
   "id": "cf7b3b25",
   "metadata": {
    "execution": {
     "iopub.execute_input": "2023-04-19T19:09:58.319957Z",
     "iopub.status.busy": "2023-04-19T19:09:58.319454Z",
     "iopub.status.idle": "2023-04-19T19:09:59.264482Z",
     "shell.execute_reply": "2023-04-19T19:09:59.263484Z"
    },
    "papermill": {
     "duration": 0.966868,
     "end_time": "2023-04-19T19:09:59.271872",
     "exception": false,
     "start_time": "2023-04-19T19:09:58.305004",
     "status": "completed"
    },
    "tags": []
   },
   "outputs": [
    {
     "name": "stdout",
     "output_type": "stream",
     "text": [
      "\n",
      "Final Statistics:\n",
      "Generator Loss - Mean: 1.0839, Min: 0.4767, Final: 0.8545\n",
      "Discriminator Loss - Mean: 0.5980, Min: 0.0011, Final: 0.6332\n",
      "FID Scores - Min: 213.8687, Max: 447.9960, Mean: 276.8337, Final: 216.1531\n"
     ]
    },
    {
     "data": {
      "image/png": "[encoded data removed]",
      "text/plain": [
       "<Figure size 1000x500 with 1 Axes>"
      ]
     },
     "metadata": {},
     "output_type": "display_data"
    },
    {
     "data": {
      "image/png": "[encoded data removed]",
      "text/plain": [
       "<Figure size 1000x500 with 1 Axes>"
      ]
     },
     "metadata": {},
     "output_type": "display_data"
    }
   ],
   "source": [
    "# Print final statistics\n",
    "print(\"\\nFinal Statistics:\")\n",
    "print(f\"Generator Loss - Mean: {np.mean(generator_losses):.4f}, Min: {np.min(generator_losses):.4f}, Final: {generator_losses[-1]:.4f}\")\n",
    "print(f\"Discriminator Loss - Mean: {np.mean(discriminator_losses):.4f}, Min: {np.min(discriminator_losses):.4f}, Final: {discriminator_losses[-1]:.4f}\")\n",
    "print(f\"FID Scores - Min: {np.min(fid_scores):.4f}, Max: {np.max(fid_scores):.4f}, Mean: {np.mean(fid_scores):.4f}, Final: {fid_scores[-1]:.4f}\")\n",
    "\n",
    "plt.figure(figsize=(10,5))\n",
    "img = plt.imread('Results/loss.png')\n",
    "plt.imshow(img)\n",
    "plt.axis('off')\n",
    "plt.title(\"Training Losses\")\n",
    "plt.show()\n",
    "\n",
    "plt.figure(figsize=(10,5))\n",
    "img = plt.imread('Results/FID.png')\n",
    "plt.imshow(img)\n",
    "plt.axis('off')\n",
    "plt.title(\"FID Scores\")\n",
    "plt.show()"
   ]
  }
 ],
 "metadata": {
  "kernelspec": {
   "display_name": "DeepLearning",
   "language": "python",
   "name": "python3"
  },
  "language_info": {
   "codemirror_mode": {
    "name": "ipython",
    "version": 3
   },
   "file_extension": ".py",
   "mimetype": "text/x-python",
   "name": "python",
   "nbconvert_exporter": "python",
   "pygments_lexer": "ipython3",
   "version": "3.12.5"
  },
  "papermill": {
   "default_parameters": {},
   "duration": 3242.470222,
   "end_time": "2023-04-19T19:10:02.173255",
   "environment_variables": {},
   "exception": null,
   "input_path": "__notebook__.ipynb",
   "output_path": "__notebook__.ipynb",
   "parameters": {},
   "start_time": "2023-04-19T18:15:59.703033",
   "version": "2.4.0"
  },
  "widgets": {
   "application/vnd.jupyter.widget-state+json": {
    "state": {
     "0a1ea5f75a2644c782916e43fdd954cf": {
      "model_module": "@jupyter-widgets/controls",
      "model_module_version": "1.5.0",
      "model_name": "HTMLModel",
      "state": {
       "_dom_classes": [],
       "_model_module": "@jupyter-widgets/controls",
       "_model_module_version": "1.5.0",
       "_model_name": "HTMLModel",
       "_view_count": null,
       "_view_module": "@jupyter-widgets/controls",
       "_view_module_version": "1.5.0",
       "_view_name": "HTMLView",
       "description": "",
       "description_tooltip": null,
       "layout": "IPY_MODEL_9964655af3be4db7894f14b4de57bc09",
       "placeholder": "​",
       "style": "IPY_MODEL_87f372220998414bb2d901defb87ecfc",
       "value": "100%"
      }
     },
     "1857af871bd14567a8008da5f3aa03a8": {
      "model_module": "@jupyter-widgets/base",
      "model_module_version": "1.2.0",
      "model_name": "LayoutModel",
      "state": {
       "_model_module": "@jupyter-widgets/base",
       "_model_module_version": "1.2.0",
       "_model_name": "LayoutModel",
       "_view_count": null,
       "_view_module": "@jupyter-widgets/base",
       "_view_module_version": "1.2.0",
       "_view_name": "LayoutView",
       "align_content": null,
       "align_items": null,
       "align_self": null,
       "border": null,
       "bottom": null,
       "display": null,
       "flex": null,
       "flex_flow": null,
       "grid_area": null,
       "grid_auto_columns": null,
       "grid_auto_flow": null,
       "grid_auto_rows": null,
       "grid_column": null,
       "grid_gap": null,
       "grid_row": null,
       "grid_template_areas": null,
       "grid_template_columns": null,
       "grid_template_rows": null,
       "height": null,
       "justify_content": null,
       "justify_items": null,
       "left": null,
       "margin": null,
       "max_height": null,
       "max_width": null,
       "min_height": null,
       "min_width": null,
       "object_fit": null,
       "object_position": null,
       "order": null,
       "overflow": null,
       "overflow_x": null,
       "overflow_y": null,
       "padding": null,
       "right": null,
       "top": null,
       "visibility": null,
       "width": null
      }
     },
     "20b7f6702e5e4e81886e33482e468c74": {
      "model_module": "@jupyter-widgets/controls",
      "model_module_version": "1.5.0",
      "model_name": "HBoxModel",
      "state": {
       "_dom_classes": [],
       "_model_module": "@jupyter-widgets/controls",
       "_model_module_version": "1.5.0",
       "_model_name": "HBoxModel",
       "_view_count": null,
       "_view_module": "@jupyter-widgets/controls",
       "_view_module_version": "1.5.0",
       "_view_name": "HBoxView",
       "box_style": "",
       "children": [
        "IPY_MODEL_713fd3d61989487db4fdcbe41b9e1797",
        "IPY_MODEL_b0cafd38b00f49e289874219ef713035",
        "IPY_MODEL_be5c65b14f4d430193f7eae7b022e95f"
       ],
       "layout": "IPY_MODEL_f2c0921f70f7479a9c650ff9ac9fb794"
      }
     },
     "48c6c1aa0ef64012a48af2ca7d2ed84d": {
      "model_module": "@jupyter-widgets/controls",
      "model_module_version": "1.5.0",
      "model_name": "FloatProgressModel",
      "state": {
       "_dom_classes": [],
       "_model_module": "@jupyter-widgets/controls",
       "_model_module_version": "1.5.0",
       "_model_name": "FloatProgressModel",
       "_view_count": null,
       "_view_module": "@jupyter-widgets/controls",
       "_view_module_version": "1.5.0",
       "_view_name": "ProgressView",
       "bar_style": "success",
       "description": "",
       "description_tooltip": null,
       "layout": "IPY_MODEL_7324b01ba87141ebba954a380a164d8b",
       "max": 170498071,
       "min": 0,
       "orientation": "horizontal",
       "style": "IPY_MODEL_4faa1b174cc04a06994d585ea88c6bb9",
       "value": 170498071
      }
     },
     "4faa1b174cc04a06994d585ea88c6bb9": {
      "model_module": "@jupyter-widgets/controls",
      "model_module_version": "1.5.0",
      "model_name": "ProgressStyleModel",
      "state": {
       "_model_module": "@jupyter-widgets/controls",
       "_model_module_version": "1.5.0",
       "_model_name": "ProgressStyleModel",
       "_view_count": null,
       "_view_module": "@jupyter-widgets/base",
       "_view_module_version": "1.2.0",
       "_view_name": "StyleView",
       "bar_color": null,
       "description_width": ""
      }
     },
     "5437d9d8f63a4fab8aa054d91ba761d7": {
      "model_module": "@jupyter-widgets/base",
      "model_module_version": "1.2.0",
      "model_name": "LayoutModel",
      "state": {
       "_model_module": "@jupyter-widgets/base",
       "_model_module_version": "1.2.0",
       "_model_name": "LayoutModel",
       "_view_count": null,
       "_view_module": "@jupyter-widgets/base",
       "_view_module_version": "1.2.0",
       "_view_name": "LayoutView",
       "align_content": null,
       "align_items": null,
       "align_self": null,
       "border": null,
       "bottom": null,
       "display": null,
       "flex": null,
       "flex_flow": null,
       "grid_area": null,
       "grid_auto_columns": null,
       "grid_auto_flow": null,
       "grid_auto_rows": null,
       "grid_column": null,
       "grid_gap": null,
       "grid_row": null,
       "grid_template_areas": null,
       "grid_template_columns": null,
       "grid_template_rows": null,
       "height": null,
       "justify_content": null,
       "justify_items": null,
       "left": null,
       "margin": null,
       "max_height": null,
       "max_width": null,
       "min_height": null,
       "min_width": null,
       "object_fit": null,
       "object_position": null,
       "order": null,
       "overflow": null,
       "overflow_x": null,
       "overflow_y": null,
       "padding": null,
       "right": null,
       "top": null,
       "visibility": null,
       "width": null
      }
     },
     "54df18d870834677966501ad4a088234": {
      "model_module": "@jupyter-widgets/base",
      "model_module_version": "1.2.0",
      "model_name": "LayoutModel",
      "state": {
       "_model_module": "@jupyter-widgets/base",
       "_model_module_version": "1.2.0",
       "_model_name": "LayoutModel",
       "_view_count": null,
       "_view_module": "@jupyter-widgets/base",
       "_view_module_version": "1.2.0",
       "_view_name": "LayoutView",
       "align_content": null,
       "align_items": null,
       "align_self": null,
       "border": null,
       "bottom": null,
       "display": null,
       "flex": null,
       "flex_flow": null,
       "grid_area": null,
       "grid_auto_columns": null,
       "grid_auto_flow": null,
       "grid_auto_rows": null,
       "grid_column": null,
       "grid_gap": null,
       "grid_row": null,
       "grid_template_areas": null,
       "grid_template_columns": null,
       "grid_template_rows": null,
       "height": null,
       "justify_content": null,
       "justify_items": null,
       "left": null,
       "margin": null,
       "max_height": null,
       "max_width": null,
       "min_height": null,
       "min_width": null,
       "object_fit": null,
       "object_position": null,
       "order": null,
       "overflow": null,
       "overflow_x": null,
       "overflow_y": null,
       "padding": null,
       "right": null,
       "top": null,
       "visibility": null,
       "width": null
      }
     },
     "713fd3d61989487db4fdcbe41b9e1797": {
      "model_module": "@jupyter-widgets/controls",
      "model_module_version": "1.5.0",
      "model_name": "HTMLModel",
      "state": {
       "_dom_classes": [],
       "_model_module": "@jupyter-widgets/controls",
       "_model_module_version": "1.5.0",
       "_model_name": "HTMLModel",
       "_view_count": null,
       "_view_module": "@jupyter-widgets/controls",
       "_view_module_version": "1.5.0",
       "_view_name": "HTMLView",
       "description": "",
       "description_tooltip": null,
       "layout": "IPY_MODEL_5437d9d8f63a4fab8aa054d91ba761d7",
       "placeholder": "​",
       "style": "IPY_MODEL_730083baa64641d48fc6b48c11435e70",
       "value": "100%"
      }
     },
     "730083baa64641d48fc6b48c11435e70": {
      "model_module": "@jupyter-widgets/controls",
      "model_module_version": "1.5.0",
      "model_name": "DescriptionStyleModel",
      "state": {
       "_model_module": "@jupyter-widgets/controls",
       "_model_module_version": "1.5.0",
       "_model_name": "DescriptionStyleModel",
       "_view_count": null,
       "_view_module": "@jupyter-widgets/base",
       "_view_module_version": "1.2.0",
       "_view_name": "StyleView",
       "description_width": ""
      }
     },
     "7324b01ba87141ebba954a380a164d8b": {
      "model_module": "@jupyter-widgets/base",
      "model_module_version": "1.2.0",
      "model_name": "LayoutModel",
      "state": {
       "_model_module": "@jupyter-widgets/base",
       "_model_module_version": "1.2.0",
       "_model_name": "LayoutModel",
       "_view_count": null,
       "_view_module": "@jupyter-widgets/base",
       "_view_module_version": "1.2.0",
       "_view_name": "LayoutView",
       "align_content": null,
       "align_items": null,
       "align_self": null,
       "border": null,
       "bottom": null,
       "display": null,
       "flex": null,
       "flex_flow": null,
       "grid_area": null,
       "grid_auto_columns": null,
       "grid_auto_flow": null,
       "grid_auto_rows": null,
       "grid_column": null,
       "grid_gap": null,
       "grid_row": null,
       "grid_template_areas": null,
       "grid_template_columns": null,
       "grid_template_rows": null,
       "height": null,
       "justify_content": null,
       "justify_items": null,
       "left": null,
       "margin": null,
       "max_height": null,
       "max_width": null,
       "min_height": null,
       "min_width": null,
       "object_fit": null,
       "object_position": null,
       "order": null,
       "overflow": null,
       "overflow_x": null,
       "overflow_y": null,
       "padding": null,
       "right": null,
       "top": null,
       "visibility": null,
       "width": null
      }
     },
     "7c8217cdad9b4b34af9fed26c3257b8c": {
      "model_module": "@jupyter-widgets/controls",
      "model_module_version": "1.5.0",
      "model_name": "DescriptionStyleModel",
      "state": {
       "_model_module": "@jupyter-widgets/controls",
       "_model_module_version": "1.5.0",
       "_model_name": "DescriptionStyleModel",
       "_view_count": null,
       "_view_module": "@jupyter-widgets/base",
       "_view_module_version": "1.2.0",
       "_view_name": "StyleView",
       "description_width": ""
      }
     },
     "87f372220998414bb2d901defb87ecfc": {
      "model_module": "@jupyter-widgets/controls",
      "model_module_version": "1.5.0",
      "model_name": "DescriptionStyleModel",
      "state": {
       "_model_module": "@jupyter-widgets/controls",
       "_model_module_version": "1.5.0",
       "_model_name": "DescriptionStyleModel",
       "_view_count": null,
       "_view_module": "@jupyter-widgets/base",
       "_view_module_version": "1.2.0",
       "_view_name": "StyleView",
       "description_width": ""
      }
     },
     "9964655af3be4db7894f14b4de57bc09": {
      "model_module": "@jupyter-widgets/base",
      "model_module_version": "1.2.0",
      "model_name": "LayoutModel",
      "state": {
       "_model_module": "@jupyter-widgets/base",
       "_model_module_version": "1.2.0",
       "_model_name": "LayoutModel",
       "_view_count": null,
       "_view_module": "@jupyter-widgets/base",
       "_view_module_version": "1.2.0",
       "_view_name": "LayoutView",
       "align_content": null,
       "align_items": null,
       "align_self": null,
       "border": null,
       "bottom": null,
       "display": null,
       "flex": null,
       "flex_flow": null,
       "grid_area": null,
       "grid_auto_columns": null,
       "grid_auto_flow": null,
       "grid_auto_rows": null,
       "grid_column": null,
       "grid_gap": null,
       "grid_row": null,
       "grid_template_areas": null,
       "grid_template_columns": null,
       "grid_template_rows": null,
       "height": null,
       "justify_content": null,
       "justify_items": null,
       "left": null,
       "margin": null,
       "max_height": null,
       "max_width": null,
       "min_height": null,
       "min_width": null,
       "object_fit": null,
       "object_position": null,
       "order": null,
       "overflow": null,
       "overflow_x": null,
       "overflow_y": null,
       "padding": null,
       "right": null,
       "top": null,
       "visibility": null,
       "width": null
      }
     },
     "b0cafd38b00f49e289874219ef713035": {
      "model_module": "@jupyter-widgets/controls",
      "model_module_version": "1.5.0",
      "model_name": "FloatProgressModel",
      "state": {
       "_dom_classes": [],
       "_model_module": "@jupyter-widgets/controls",
       "_model_module_version": "1.5.0",
       "_model_name": "FloatProgressModel",
       "_view_count": null,
       "_view_module": "@jupyter-widgets/controls",
       "_view_module_version": "1.5.0",
       "_view_name": "ProgressView",
       "bar_style": "success",
       "description": "",
       "description_tooltip": null,
       "layout": "IPY_MODEL_1857af871bd14567a8008da5f3aa03a8",
       "max": 108949747,
       "min": 0,
       "orientation": "horizontal",
       "style": "IPY_MODEL_fee6320447e44aedba717bfd7875c4fd",
       "value": 108949747
      }
     },
     "be5c65b14f4d430193f7eae7b022e95f": {
      "model_module": "@jupyter-widgets/controls",
      "model_module_version": "1.5.0",
      "model_name": "HTMLModel",
      "state": {
       "_dom_classes": [],
       "_model_module": "@jupyter-widgets/controls",
       "_model_module_version": "1.5.0",
       "_model_name": "HTMLModel",
       "_view_count": null,
       "_view_module": "@jupyter-widgets/controls",
       "_view_module_version": "1.5.0",
       "_view_name": "HTMLView",
       "description": "",
       "description_tooltip": null,
       "layout": "IPY_MODEL_cdc668445ce24aedb16a04d5ac32497d",
       "placeholder": "​",
       "style": "IPY_MODEL_fe6546f57e734ba3a89cf39a4f4ba8f0",
       "value": " 104M/104M [00:00&lt;00:00, 202MB/s]"
      }
     },
     "c09eb6d42560475b831a797069e0f026": {
      "model_module": "@jupyter-widgets/base",
      "model_module_version": "1.2.0",
      "model_name": "LayoutModel",
      "state": {
       "_model_module": "@jupyter-widgets/base",
       "_model_module_version": "1.2.0",
       "_model_name": "LayoutModel",
       "_view_count": null,
       "_view_module": "@jupyter-widgets/base",
       "_view_module_version": "1.2.0",
       "_view_name": "LayoutView",
       "align_content": null,
       "align_items": null,
       "align_self": null,
       "border": null,
       "bottom": null,
       "display": null,
       "flex": null,
       "flex_flow": null,
       "grid_area": null,
       "grid_auto_columns": null,
       "grid_auto_flow": null,
       "grid_auto_rows": null,
       "grid_column": null,
       "grid_gap": null,
       "grid_row": null,
       "grid_template_areas": null,
       "grid_template_columns": null,
       "grid_template_rows": null,
       "height": null,
       "justify_content": null,
       "justify_items": null,
       "left": null,
       "margin": null,
       "max_height": null,
       "max_width": null,
       "min_height": null,
       "min_width": null,
       "object_fit": null,
       "object_position": null,
       "order": null,
       "overflow": null,
       "overflow_x": null,
       "overflow_y": null,
       "padding": null,
       "right": null,
       "top": null,
       "visibility": null,
       "width": null
      }
     },
     "cdc668445ce24aedb16a04d5ac32497d": {
      "model_module": "@jupyter-widgets/base",
      "model_module_version": "1.2.0",
      "model_name": "LayoutModel",
      "state": {
       "_model_module": "@jupyter-widgets/base",
       "_model_module_version": "1.2.0",
       "_model_name": "LayoutModel",
       "_view_count": null,
       "_view_module": "@jupyter-widgets/base",
       "_view_module_version": "1.2.0",
       "_view_name": "LayoutView",
       "align_content": null,
       "align_items": null,
       "align_self": null,
       "border": null,
       "bottom": null,
       "display": null,
       "flex": null,
       "flex_flow": null,
       "grid_area": null,
       "grid_auto_columns": null,
       "grid_auto_flow": null,
       "grid_auto_rows": null,
       "grid_column": null,
       "grid_gap": null,
       "grid_row": null,
       "grid_template_areas": null,
       "grid_template_columns": null,
       "grid_template_rows": null,
       "height": null,
       "justify_content": null,
       "justify_items": null,
       "left": null,
       "margin": null,
       "max_height": null,
       "max_width": null,
       "min_height": null,
       "min_width": null,
       "object_fit": null,
       "object_position": null,
       "order": null,
       "overflow": null,
       "overflow_x": null,
       "overflow_y": null,
       "padding": null,
       "right": null,
       "top": null,
       "visibility": null,
       "width": null
      }
     },
     "f14b78b885a443f29c03b7898dcf9956": {
      "model_module": "@jupyter-widgets/controls",
      "model_module_version": "1.5.0",
      "model_name": "HTMLModel",
      "state": {
       "_dom_classes": [],
       "_model_module": "@jupyter-widgets/controls",
       "_model_module_version": "1.5.0",
       "_model_name": "HTMLModel",
       "_view_count": null,
       "_view_module": "@jupyter-widgets/controls",
       "_view_module_version": "1.5.0",
       "_view_name": "HTMLView",
       "description": "",
       "description_tooltip": null,
       "layout": "IPY_MODEL_54df18d870834677966501ad4a088234",
       "placeholder": "​",
       "style": "IPY_MODEL_7c8217cdad9b4b34af9fed26c3257b8c",
       "value": " 170498071/170498071 [00:03&lt;00:00, 53376082.54it/s]"
      }
     },
     "f2c0921f70f7479a9c650ff9ac9fb794": {
      "model_module": "@jupyter-widgets/base",
      "model_module_version": "1.2.0",
      "model_name": "LayoutModel",
      "state": {
       "_model_module": "@jupyter-widgets/base",
       "_model_module_version": "1.2.0",
       "_model_name": "LayoutModel",
       "_view_count": null,
       "_view_module": "@jupyter-widgets/base",
       "_view_module_version": "1.2.0",
       "_view_name": "LayoutView",
       "align_content": null,
       "align_items": null,
       "align_self": null,
       "border": null,
       "bottom": null,
       "display": null,
       "flex": null,
       "flex_flow": null,
       "grid_area": null,
       "grid_auto_columns": null,
       "grid_auto_flow": null,
       "grid_auto_rows": null,
       "grid_column": null,
       "grid_gap": null,
       "grid_row": null,
       "grid_template_areas": null,
       "grid_template_columns": null,
       "grid_template_rows": null,
       "height": null,
       "justify_content": null,
       "justify_items": null,
       "left": null,
       "margin": null,
       "max_height": null,
       "max_width": null,
       "min_height": null,
       "min_width": null,
       "object_fit": null,
       "object_position": null,
       "order": null,
       "overflow": null,
       "overflow_x": null,
       "overflow_y": null,
       "padding": null,
       "right": null,
       "top": null,
       "visibility": null,
       "width": null
      }
     },
     "fbf55f60564446d1b226dd9b321e7245": {
      "model_module": "@jupyter-widgets/controls",
      "model_module_version": "1.5.0",
      "model_name": "HBoxModel",
      "state": {
       "_dom_classes": [],
       "_model_module": "@jupyter-widgets/controls",
       "_model_module_version": "1.5.0",
       "_model_name": "HBoxModel",
       "_view_count": null,
       "_view_module": "@jupyter-widgets/controls",
       "_view_module_version": "1.5.0",
       "_view_name": "HBoxView",
       "box_style": "",
       "children": [
        "IPY_MODEL_0a1ea5f75a2644c782916e43fdd954cf",
        "IPY_MODEL_48c6c1aa0ef64012a48af2ca7d2ed84d",
        "IPY_MODEL_f14b78b885a443f29c03b7898dcf9956"
       ],
       "layout": "IPY_MODEL_c09eb6d42560475b831a797069e0f026"
      }
     },
     "fe6546f57e734ba3a89cf39a4f4ba8f0": {
      "model_module": "@jupyter-widgets/controls",
      "model_module_version": "1.5.0",
      "model_name": "DescriptionStyleModel",
      "state": {
       "_model_module": "@jupyter-widgets/controls",
       "_model_module_version": "1.5.0",
       "_model_name": "DescriptionStyleModel",
       "_view_count": null,
       "_view_module": "@jupyter-widgets/base",
       "_view_module_version": "1.2.0",
       "_view_name": "StyleView",
       "description_width": ""
      }
     },
     "fee6320447e44aedba717bfd7875c4fd": {
      "model_module": "@jupyter-widgets/controls",
      "model_module_version": "1.5.0",
      "model_name": "ProgressStyleModel",
      "state": {
       "_model_module": "@jupyter-widgets/controls",
       "_model_module_version": "1.5.0",
       "_model_name": "ProgressStyleModel",
       "_view_count": null,
       "_view_module": "@jupyter-widgets/base",
       "_view_module_version": "1.2.0",
       "_view_name": "StyleView",
       "bar_color": null,
       "description_width": ""
      }
     }
    },
    "version_major": 2,
    "version_minor": 0
   }
  }
 },
 "nbformat": 4,
 "nbformat_minor": 5
}
